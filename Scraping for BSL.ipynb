{
 "cells": [
  {
   "cell_type": "code",
   "execution_count": 3,
   "id": "f86ce0b9",
   "metadata": {},
   "outputs": [],
   "source": [
    "import requests\n",
    "from bs4 import BeautifulSoup\n",
    "\n",
    "url = \"https://www.sign-lang.uni-hamburg.de/dicta-sign/portal/concepts/concepts_eng.html\""
   ]
  },
  {
   "cell_type": "code",
   "execution_count": 4,
   "id": "507e7b13",
   "metadata": {},
   "outputs": [],
   "source": [
    "r = requests.get(url)\n",
    "htmlContent = r.content\n",
    "\n",
    "soup = BeautifulSoup(htmlContent, 'lxml')"
   ]
  },
  {
   "cell_type": "code",
   "execution_count": 5,
   "id": "e1140d9d",
   "metadata": {},
   "outputs": [],
   "source": [
    "links = soup.find_all('a')\n",
    "myList = list()\n",
    "\n",
    "for link in links:\n",
    "    txt = \"https://www.sign-lang.uni-hamburg.de/dicta-sign/portal/concepts/\"\n",
    "    myList.append(txt + link.get('href'))"
   ]
  },
  {
   "cell_type": "code",
   "execution_count": 6,
   "id": "2793e07c",
   "metadata": {},
   "outputs": [
    {
     "name": "stdout",
     "output_type": "stream",
     "text": [
      "abroad : \n",
      "accept : \n",
      "accident : \n"
     ]
    }
   ],
   "source": [
    "dic = dict()\n",
    "for link in myList[4:10:2]:\n",
    "    urll = link\n",
    "    r = requests.get(urll)\n",
    "    htmlContent = r.content\n",
    "    soup = BeautifulSoup(htmlContent, 'html.parser')\n",
    "    dic[soup.find('div', class_='title-c').string] = soup.find('div', class_='hns').string\n",
    "    \n",
    "for index, key in enumerate(dic):\n",
    "    print(key, \":\", dic[key])"
   ]
  }
 ],
 "metadata": {
  "kernelspec": {
   "display_name": "Python 3.8.8 ('base')",
   "language": "python",
   "name": "python3"
  },
  "language_info": {
   "codemirror_mode": {
    "name": "ipython",
    "version": 3
   },
   "file_extension": ".py",
   "mimetype": "text/x-python",
   "name": "python",
   "nbconvert_exporter": "python",
   "pygments_lexer": "ipython3",
   "version": "3.8.8"
  },
  "vscode": {
   "interpreter": {
    "hash": "ad2bdc8ecc057115af97d19610ffacc2b4e99fae6737bb82f5d7fb13d2f2c186"
   }
  }
 },
 "nbformat": 4,
 "nbformat_minor": 5
}
